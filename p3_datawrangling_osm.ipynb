{
 "cells": [
  {
   "cell_type": "markdown",
   "metadata": {},
   "source": [
    "Dataset used:\n",
    "\n",
    "[Munich Germany](https://mapzen.com/data/metro-extracts/metro/munich_germany/) from OpenStreetMap.  \n",
    "[Download(OSMXML 39MB)](https://s3.amazonaws.com/metro-extracts.mapzen.com/munich_germany.osm.bz2)"
   ]
  },
  {
   "cell_type": "code",
   "execution_count": null,
   "metadata": {
    "collapsed": true
   },
   "outputs": [],
   "source": [
    "!curl https://s3.amazonaws.com/metro-extracts.mapzen.com/munich_germany.osm.bz2"
   ]
  },
  {
   "cell_type": "markdown",
   "metadata": {
    "collapsed": true
   },
   "source": [
    "将下载文件解压后命名为\"munich_germany.osm\"。解压后文件大小为481MB，为了简便测试，使用以下代码来生成小样本："
   ]
  },
  {
   "cell_type": "code",
   "execution_count": 1,
   "metadata": {
    "collapsed": true
   },
   "outputs": [],
   "source": [
    "import sampling\n",
    "# 生成10分之一的测试数据。\n",
    "K10 = sampling.writeSample(\"munich_germany\", 10)"
   ]
  },
  {
   "cell_type": "markdown",
   "metadata": {},
   "source": [
    "运行代码，生成大小约为50MB的样本数据。"
   ]
  },
  {
   "cell_type": "code",
   "execution_count": 2,
   "metadata": {
    "collapsed": false
   },
   "outputs": [
    {
     "name": "stdout",
     "output_type": "stream",
     "text": [
      "49M\tmunich_germany_k10.osm\r\n"
     ]
    }
   ],
   "source": [
    "!du -sh munich_germany_k10.osm"
   ]
  },
  {
   "cell_type": "markdown",
   "metadata": {
    "collapsed": false
   },
   "source": [
    "# 审核数据 audit.py"
   ]
  },
  {
   "cell_type": "markdown",
   "metadata": {},
   "source": [
    "在审核osm数据时第一个遇到的问题是德语的特殊字符,例如 ä, ü，ß 等不能被python很好的解析，所以在源代码中作以下处理：\n",
    "1. 在第一或二行加入编码声明 [详情](https://www.python.org/peps/pep-0263.html)\n",
    "```python\n",
    "#coding:utf-8\n",
    "```\n",
    "2. 在打开文件时添加编码参数\n",
    "```python\n",
    "codecs.open(osmfile, mode='r', encoding='utf-8')\n",
    "```\n",
    "3. 设置python默认编码环境\n",
    "```python\n",
    "reload(sys)\n",
    "sys.setdefaultencoding('utf8')\n",
    "```"
   ]
  },
  {
   "cell_type": "markdown",
   "metadata": {},
   "source": [
    "### 审核街道名称\n",
    "在使用audit.py对样本进行审核后，发现由于德语的特殊性，仅简单的对街道名的词尾进行分类已不适用。例如，很多德语街道（strasse）名才取连写的方式：\n",
    "\n",
    "Rosen<span style=\"color:blue\">straße</span> （玫瑰街）\n",
    "\n",
    "\n",
    "而非：\n",
    "Rosen <span style=\"color:blue\">straße</span> （玫瑰 街）\n",
    "\n",
    "但同时也存在以下几种形式：\n",
    "\n",
    "abc<span style=\"color:blue\">straße</span>\n",
    "\n",
    "abc-<span style=\"color:blue\">straße</span>\n",
    "\n",
    "abc <span style=\"color:blue\">straße</span>\n",
    "\n",
    "考虑到针对不同的语言有不同的分词的方法，而我们的重点是数据审核和清理，这里只采用以下正则表达式：\n",
    "\n",
    "```\n",
    "street_type_re = re.compile(\n",
    "    ur'(\\s|-)?(straße|weg|ring|platz|allee|bogen|gasse|brücke|hof|berg|eck)$',\n",
    "    re.IGNORECASE | re.UNICODE) \n",
    "```\n",
    "*(我花了较长时间来使得以上的re有match，主要是在python2中，不仅compile方法需要有额外的re.UNICODE flag，还必须将string const前标注ur来转译成\"unicode string\")*\n",
    "\n",
    "在德语中除了straße（街）以外，还有weg（道），ring（环），platz（广场），allee（大道），gasse（通道），brücke（桥），hof（庄）等等。这些多次出现的词尾是经过了多次运行audit.py后得到的印象，这里将它们都加入到正则表达式的预期街道名中。\n",
    "\n",
    "在除去了以上的街道名词尾后，结果中还包涵了以下一类以“介词”开头或结尾的街道名，大多数是在POI附近的街道名，表示“在”什么附近，“靠近”某某等等，比如：\n",
    "```\n",
    "Am Krautgarten (在。。。）\n",
    "Im Wismat (靠。。。)\n",
    "Zu Maria-Eich (至。。。)\n",
    "Zur Allacher\n",
    "```\n",
    "*(在德语中介词需要根据之后的名词属性变格，比如“至。。。”（英文 to)可能有\"zu\", \"zum\", \"zur\"等多种形式)*\n",
    "\n",
    "还有针对地貌或者属性相关的街道名，例如：\n",
    "```\n",
    "Pratalinsel (。。。岛）\n",
    "Englishgarten (。。。花园）\n",
    "Rindermarkt (。。。市场)\n",
    "```\n",
    "\n",
    "在观察这些街道名之后，我将他们都加入了通过审核的字典中。"
   ]
  },
  {
   "cell_type": "markdown",
   "metadata": {},
   "source": [
    "# 数据清理\n",
    "在多次调整audit.py的预期街道名之后，人工（在maps.google.de）验证余下的可怀疑街道名，例如：\n",
    "```\n",
    "<node changeset=\"22627081\" id=\"2888062656\" lat=\"48.0928659\" lon=\"11.5542587\" timestamp=\"2014-05-29T20:37:14Z\" uid=\"78613\" user=\"heilbron\" version=\"1\">\n",
    "                <tag k=\"addr:city\" v=\"München\" />\n",
    "                <tag k=\"addr:street\" v=\"Über der Klause\" />\n",
    "                <tag k=\"addr:country\" v=\"DE\" />\n",
    "                <tag k=\"addr:housenumber\" v=\"4a\" />\n",
    "</node>\n",
    "```\n",
    "\n",
    "这条街道名称为\"Über der Klause\"，直译为\"经过某路的路\"，一般在道路名中使用介词\"Über\"很少见，可能是将description误录入了街道名，在非osm地图服务上搜索此街道，真的存在这样的一条街。\n",
    "![Über der Klause](ueberKlause.png)\n",
    "\n",
    "当然，这并不能完全证实这个名字，如果地图服务商本身用的就是osm的数据的话。这里不作讨论。"
   ]
  },
  {
   "cell_type": "markdown",
   "metadata": {},
   "source": [
    "在实际项目中，我还查验了其他几个无法分类的街道名，但结果都是事实存在的，可以看出，这个小样本所代表的慕尼黑附近的地图数据是比较可靠的。\n",
    "\n",
    "### 使用prepareDB.py\n",
    "\n",
    "这个脚本主要有两个功能：\n",
    "\n",
    "1. 提取\"node\"和\"way\"的相关属性，组织层级的地址address，坐标pos及相应的键值对。shape_element()\n",
    "2. 以json格式保存到文件，以便导入至数据库。process_map()\n",
    "\n",
    "针对样本数据运行python prepareDB.py后得到"
   ]
  },
  {
   "cell_type": "code",
   "execution_count": null,
   "metadata": {
    "collapsed": true
   },
   "outputs": [],
   "source": []
  }
 ],
 "metadata": {
  "kernelspec": {
   "display_name": "Python 2",
   "language": "python",
   "name": "python2"
  },
  "language_info": {
   "codemirror_mode": {
    "name": "ipython",
    "version": 2
   },
   "file_extension": ".py",
   "mimetype": "text/x-python",
   "name": "python",
   "nbconvert_exporter": "python",
   "pygments_lexer": "ipython2",
   "version": "2.7.13"
  }
 },
 "nbformat": 4,
 "nbformat_minor": 2
}
