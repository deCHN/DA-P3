{
 "cells": [
  {
   "cell_type": "markdown",
   "metadata": {},
   "source": [
    "Dataset used:\n",
    "\n",
    "[Munich Germany](https://mapzen.com/data/metro-extracts/metro/munich_germany/) from OpenStreetMap.  \n",
    "[Download(OSMXML 39MB)](https://s3.amazonaws.com/metro-extracts.mapzen.com/munich_germany.osm.bz2)"
   ]
  },
  {
   "cell_type": "code",
   "execution_count": null,
   "metadata": {
    "collapsed": true
   },
   "outputs": [],
   "source": [
    "!curl https://s3.amazonaws.com/metro-extracts.mapzen.com/munich_germany.osm.bz2"
   ]
  },
  {
   "cell_type": "markdown",
   "metadata": {
    "collapsed": true
   },
   "source": [
    "将下载文件解压后命名为\"munich_germany.osm\"。解压后文件大小为481MB，为了简便测试，使用以下代码来生成小样本："
   ]
  },
  {
   "cell_type": "code",
   "execution_count": 1,
   "metadata": {
    "collapsed": true
   },
   "outputs": [],
   "source": [
    "import sampling\n",
    "# 生成10分之一的测试数据。\n",
    "K10 = sampling.writeSample(\"munich_germany\", 10)"
   ]
  },
  {
   "cell_type": "markdown",
   "metadata": {},
   "source": [
    "运行代码，生成数据大小大约为50MB。"
   ]
  },
  {
   "cell_type": "code",
   "execution_count": 2,
   "metadata": {
    "collapsed": false
   },
   "outputs": [
    {
     "name": "stdout",
     "output_type": "stream",
     "text": [
      "49M\tmunich_germany_k10.osm\r\n"
     ]
    }
   ],
   "source": [
    "!du -sh munich_germany_k10.osm"
   ]
  },
  {
   "cell_type": "markdown",
   "metadata": {
    "collapsed": false
   },
   "source": [
    "# 审核数据 audit.py"
   ]
  },
  {
   "cell_type": "markdown",
   "metadata": {},
   "source": [
    "在审核osm数据时第一个遇到的问题是德语的特殊字符,例如 ä, ü，ß 等不能被python很好的解析，所以在源代码中作以下处理：\n",
    "1. 在第一或二行加入编码声明 [详情](https://www.python.org/peps/pep-0263.html)\n",
    "```python\n",
    "#coding:utf-8\n",
    "```\n",
    "2. 在打开文件时添加编码参数\n",
    "```python\n",
    "codecs.open(osmfile, mode='r', encoding='utf-8')\n",
    "```\n",
    "3. 设置python默认编码环境\n",
    "```python\n",
    "reload(sys)\n",
    "sys.setdefaultencoding('utf8')\n",
    "```"
   ]
  }
 ],
 "metadata": {
  "kernelspec": {
   "display_name": "Python 2",
   "language": "python",
   "name": "python2"
  },
  "language_info": {
   "codemirror_mode": {
    "name": "ipython",
    "version": 2
   },
   "file_extension": ".py",
   "mimetype": "text/x-python",
   "name": "python",
   "nbconvert_exporter": "python",
   "pygments_lexer": "ipython2",
   "version": "2.7.13"
  }
 },
 "nbformat": 4,
 "nbformat_minor": 2
}
