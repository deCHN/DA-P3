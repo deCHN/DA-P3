{
 "cells": [
  {
   "cell_type": "markdown",
   "metadata": {},
   "source": [
    "Dataset used:\n",
    "\n",
    "[Munich Germany](https://mapzen.com/data/metro-extracts/metro/munich_germany/) from OpenStreetMap.  \n",
    "[Download(OSMXML 39MB)](https://s3.amazonaws.com/metro-extracts.mapzen.com/munich_germany.osm.bz2)"
   ]
  },
  {
   "cell_type": "markdown",
   "metadata": {
    "collapsed": true
   },
   "source": [
    "将下载文件解压后命名为\"munich_germany.osm\"。解压后文件大小为477MB，为了简便测试，使用以下代码来生成小样本："
   ]
  },
  {
   "cell_type": "code",
   "execution_count": 1,
   "metadata": {
    "collapsed": true
   },
   "outputs": [],
   "source": [
    "import xml.etree.cElementTree as ET  # Use cElementTree or lxml if too slow"
   ]
  },
  {
   "cell_type": "markdown",
   "metadata": {},
   "source": [
    "设k为10，生成10分之一的测试用数据。"
   ]
  },
  {
   "cell_type": "code",
   "execution_count": 2,
   "metadata": {
    "collapsed": true
   },
   "outputs": [],
   "source": [
    "AREA = \"munich_germany\"\n",
    "OSM_FILE = AREA + \".osm\"  # Replace this with your osm file\n",
    "\n",
    "k = 10 # Parameter: take every k-th top level element\n",
    "SAMPLE_FILE = AREA + \"_k\" + str(k) + \".osm\""
   ]
  },
  {
   "cell_type": "markdown",
   "metadata": {},
   "source": [
    "运行代码，生成数据大小大约为50MB。"
   ]
  },
  {
   "cell_type": "code",
   "execution_count": 3,
   "metadata": {
    "collapsed": true
   },
   "outputs": [],
   "source": [
    "def get_element(osm_file, tags=('node', 'way', 'relation')):\n",
    "   \"\"\"Yield element if it is the right type of tag\n",
    "\n",
    "   Reference:\n",
    "   http://stackoverflow.com/questions/3095434/inserting-newlines-in-xml-file-generated-via-xml-etree-elementtree-in-python\n",
    "   \"\"\"\n",
    "   context = iter(ET.iterparse(osm_file, events=('start', 'end')))\n",
    "   _, root = next(context)\n",
    "   for event, elem in context:\n",
    "      if event == 'end' and elem.tag in tags:\n",
    "         yield elem\n",
    "         root.clear()"
   ]
  },
  {
   "cell_type": "code",
   "execution_count": 4,
   "metadata": {
    "collapsed": false
   },
   "outputs": [],
   "source": [
    "from collections import defaultdict\n",
    "tagElements = defaultdict(int)\n",
    "\n",
    "with open(SAMPLE_FILE, 'wb') as output:\n",
    "   output.write('<?xml version=\"1.0\" encoding=\"UTF-8\"?>\\n')\n",
    "   output.write('<osm>\\n  ')\n",
    "\n",
    "   # Write every kth top level element\n",
    "   for i, element in enumerate(get_element(OSM_FILE)):\n",
    "        #if element.tag in tagElements:\n",
    "        tagElements[element.tag] += 1\n",
    "        #else:\n",
    "        #    tagElements[element.tag] = 1\n",
    "        if i % k == 0:\n",
    "            output.write(ET.tostring(element, encoding='utf-8'))\n",
    "\n",
    "   output.write('</osm>')"
   ]
  },
  {
   "cell_type": "markdown",
   "metadata": {},
   "source": [
    "遍历所有元素："
   ]
  },
  {
   "cell_type": "code",
   "execution_count": 5,
   "metadata": {
    "collapsed": false
   },
   "outputs": [
    {
     "name": "stdout",
     "output_type": "stream",
     "text": [
      "defaultdict(<type 'int'>, {'node': 1972102, 'relation': 8922, 'way': 391007})\n"
     ]
    }
   ],
   "source": [
    "print tagElements"
   ]
  },
  {
   "cell_type": "code",
   "execution_count": null,
   "metadata": {
    "collapsed": true
   },
   "outputs": [],
   "source": []
  }
 ],
 "metadata": {
  "kernelspec": {
   "display_name": "Python [conda root]",
   "language": "python",
   "name": "conda-root-py"
  },
  "language_info": {
   "codemirror_mode": {
    "name": "ipython",
    "version": 2
   },
   "file_extension": ".py",
   "mimetype": "text/x-python",
   "name": "python",
   "nbconvert_exporter": "python",
   "pygments_lexer": "ipython2",
   "version": "2.7.13"
  }
 },
 "nbformat": 4,
 "nbformat_minor": 2
}
